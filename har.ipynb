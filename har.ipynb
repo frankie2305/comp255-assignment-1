{
 "cells": [
  {
   "cell_type": "code",
   "execution_count": 7,
   "metadata": {},
   "outputs": [],
   "source": [
    "import numpy as np \n",
    "import pandas as pd \n",
    "from scipy import signal\n",
    "import matplotlib.pyplot as plt \n",
    "import math\n",
    "from sklearn import preprocessing\n",
    "from sklearn.neighbors import KNeighborsClassifier\n",
    "from sklearn.metrics import make_scorer, accuracy_score, confusion_matrix\n",
    "from sklearn.svm import SVC\n",
    "from sklearn.model_selection import GridSearchCV\n",
    "\n",
    "#Commented by: James Xi Zheng 12/Aug/2019\n",
    "#please create functions to do the following jobs\n",
    "#1. load dataset ->  sample code availalable in the workshops\n",
    "#2. visualize data -> sample code given\n",
    "#3. remove signal noises -> sample code given\n",
    "#4. extract features -> sample code given\n",
    "#5. prepare training set -> sample code given \n",
    "#6. training the given models -> sample code given\n",
    "#7. test the given models -> sample code given\n",
    "#8. print out the evaluation results -> sample code given\n",
    "\n",
    "#as I said in the lecture, the sample code is completed in a un-professional software engineering style\n",
    "#software refactoring is required\n",
    "#please manage the project using SCRUM sprints and manage the source code using Github\n",
    "#document your progress and think critically what are missing from such IoT application and what are missing to move such IoT application from PoC (proof of concept) to solve real-world life\n",
    "#think with which components added, what kind of real-world problems can be solved by it -> this shall be discussed in the conclusion part in the document\n"
   ]
  },
  {
   "cell_type": "code",
   "execution_count": 8,
   "metadata": {},
   "outputs": [],
   "source": [
    "def load_data():\n",
    "    for i in range (1, 20):\n",
    "        df = pd.read_csv('dataset/dataset_%d.txt' %i, sep=',', header=None)\n",
    "        print('The dataset contains %d rows.' % len(df))"
   ]
  }
 ],
 "metadata": {
  "kernelspec": {
   "display_name": "Python 3",
   "language": "python",
   "name": "python3"
  },
  "language_info": {
   "codemirror_mode": {
    "name": "ipython",
    "version": 3
   },
   "file_extension": ".py",
   "mimetype": "text/x-python",
   "name": "python",
   "nbconvert_exporter": "python",
   "pygments_lexer": "ipython3",
   "version": "3.7.3"
  }
 },
 "nbformat": 4,
 "nbformat_minor": 2
}
